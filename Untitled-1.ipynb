{
 "cells": [
  {
   "cell_type": "code",
   "execution_count": 1,
   "metadata": {},
   "outputs": [
    {
     "name": "stdout",
     "output_type": "stream",
     "text": [
      "Requirement already satisfied: datasets==1.6.1 in ./.local/lib/python3.8/site-packages (1.6.1)\n",
      "Requirement already satisfied: xxhash in ./.local/lib/python3.8/site-packages (from datasets==1.6.1) (3.0.0)\n",
      "Requirement already satisfied: pyarrow>=1.0.0 in ./.local/lib/python3.8/site-packages (from datasets==1.6.1) (8.0.0)\n",
      "Requirement already satisfied: requests>=2.19.0 in /usr/lib/python3/dist-packages (from datasets==1.6.1) (2.22.0)\n",
      "Requirement already satisfied: pandas in ./.local/lib/python3.8/site-packages (from datasets==1.6.1) (1.4.2)\n",
      "Requirement already satisfied: fsspec in ./.local/lib/python3.8/site-packages (from datasets==1.6.1) (2022.5.0)\n",
      "Requirement already satisfied: huggingface-hub<0.1.0 in ./.local/lib/python3.8/site-packages (from datasets==1.6.1) (0.0.19)\n",
      "Requirement already satisfied: numpy>=1.17 in ./.local/lib/python3.8/site-packages (from datasets==1.6.1) (1.22.3)\n",
      "Requirement already satisfied: dill in ./.local/lib/python3.8/site-packages (from datasets==1.6.1) (0.3.5.1)\n",
      "Requirement already satisfied: tqdm<4.50.0,>=4.27 in ./.local/lib/python3.8/site-packages (from datasets==1.6.1) (4.49.0)\n",
      "Requirement already satisfied: packaging in ./.local/lib/python3.8/site-packages (from datasets==1.6.1) (21.3)\n",
      "Requirement already satisfied: multiprocess in ./.local/lib/python3.8/site-packages (from datasets==1.6.1) (0.70.13)\n",
      "Requirement already satisfied: pytz>=2020.1 in ./.local/lib/python3.8/site-packages (from pandas->datasets==1.6.1) (2022.1)\n",
      "Requirement already satisfied: python-dateutil>=2.8.1 in ./.local/lib/python3.8/site-packages (from pandas->datasets==1.6.1) (2.8.2)\n",
      "Requirement already satisfied: filelock in ./.local/lib/python3.8/site-packages (from huggingface-hub<0.1.0->datasets==1.6.1) (3.7.0)\n",
      "Requirement already satisfied: typing-extensions in ./.local/lib/python3.8/site-packages (from huggingface-hub<0.1.0->datasets==1.6.1) (4.2.0)\n",
      "Requirement already satisfied: pyyaml in /usr/lib/python3/dist-packages (from huggingface-hub<0.1.0->datasets==1.6.1) (5.3.1)\n",
      "Requirement already satisfied: pyparsing!=3.0.5,>=2.0.2 in ./.local/lib/python3.8/site-packages (from packaging->datasets==1.6.1) (3.0.8)\n",
      "Requirement already satisfied: six>=1.5 in /usr/lib/python3/dist-packages (from python-dateutil>=2.8.1->pandas->datasets==1.6.1) (1.14.0)\n"
     ]
    }
   ],
   "source": [
    "!pip install datasets==1.6.1"
   ]
  },
  {
   "cell_type": "code",
   "execution_count": 4,
   "metadata": {},
   "outputs": [
    {
     "name": "stderr",
     "output_type": "stream",
     "text": [
      "Reusing dataset few_rel (/home/harini/.cache/huggingface/datasets/few_rel/default/1.0.0/7ffe000cdd243be21a5984bfb4cad86c2b7c421c93a405c1dbc4f55b69565158)\n"
     ]
    }
   ],
   "source": [
    "from datasets import load_dataset\n",
    "data = load_dataset('few_rel')"
   ]
  },
  {
   "cell_type": "code",
   "execution_count": 7,
   "metadata": {},
   "outputs": [
    {
     "ename": "SyntaxError",
     "evalue": "invalid syntax (4234392684.py, line 1)",
     "output_type": "error",
     "traceback": [
      "\u001b[0;36m  Input \u001b[0;32mIn [7]\u001b[0;36m\u001b[0m\n\u001b[0;31m    data{1}\u001b[0m\n\u001b[0m        ^\u001b[0m\n\u001b[0;31mSyntaxError\u001b[0m\u001b[0;31m:\u001b[0m invalid syntax\n"
     ]
    }
   ],
   "source": [
    "data{1}"
   ]
  },
  {
   "cell_type": "code",
   "execution_count": null,
   "metadata": {},
   "outputs": [],
   "source": []
  }
 ],
 "metadata": {
  "interpreter": {
   "hash": "916dbcbb3f70747c44a77c7bcd40155683ae19c65e1c03b4aa3499c5328201f1"
  },
  "kernelspec": {
   "display_name": "Python 3.8.10 64-bit",
   "language": "python",
   "name": "python3"
  },
  "language_info": {
   "codemirror_mode": {
    "name": "ipython",
    "version": 3
   },
   "file_extension": ".py",
   "mimetype": "text/x-python",
   "name": "python",
   "nbconvert_exporter": "python",
   "pygments_lexer": "ipython3",
   "version": "3.8.10"
  },
  "orig_nbformat": 4
 },
 "nbformat": 4,
 "nbformat_minor": 2
}
